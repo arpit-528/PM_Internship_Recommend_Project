{
  "nbformat": 4,
  "nbformat_minor": 0,
  "metadata": {
    "colab": {
      "provenance": []
    },
    "kernelspec": {
      "name": "python3",
      "display_name": "Python 3"
    },
    "language_info": {
      "name": "python"
    }
  },
  "cells": [
    {
      "cell_type": "code",
      "execution_count": 1,
      "metadata": {
        "colab": {
          "base_uri": "https://localhost:8080/"
        },
        "id": "NXLZZ86gYGDP",
        "outputId": "53e98a56-5472-4933-caa5-28c7bc7535c6"
      },
      "outputs": [
        {
          "output_type": "stream",
          "name": "stdout",
          "text": [
            "Students Dataset Columns: ['student_id', 'name', 'skills', 'qualification', 'location_preference', 'sector_interest', 'social_category', 'rural_background', 'past_participation']\n",
            "Internships Dataset Columns: ['internship_id', 'title', 'required_skills', 'qualification_required', 'location', 'sector', 'capacity', 'priority_category']\n",
            "✅ Vectorizers trained & saved!\n",
            "✅ internships_cleaned_for_api.csv saved!\n",
            "\n",
            "Sample internships data:\n",
            "  internship_id                      title  \\\n",
            "0         I0001  Software Developer Intern   \n",
            "1         I0002           Paralegal Intern   \n",
            "2         I0003       Video Editing Intern   \n",
            "3         I0004        Risk Analyst Intern   \n",
            "4         I0005  Clinical Assistant Intern   \n",
            "\n",
            "                                     required_skills qualification_required  \\\n",
            "0                                    html nodejs sql                B.Sc CS   \n",
            "1  case summaries contract review drafting legal ...                    LLB   \n",
            "2  figma illustrator photoshop uiux design video ...                B.Sc CS   \n",
            "3                 accounting budgeting risk analysis                  B.Com   \n",
            "4                      clinical procedures first aid                   MBBS   \n",
            "\n",
            "  location      sector  capacity priority_category  \n",
            "0    Delhi    software         5             Rural  \n",
            "1   Mumbai         law        13             Rural  \n",
            "2   Jaipur      design         7               NaN  \n",
            "3     Pune     finance        25             Rural  \n",
            "4  Kolkata  healthcare        32               NaN  \n"
          ]
        }
      ],
      "source": [
        "#  Import libraries\n",
        "import pandas as pd\n",
        "import numpy as np\n",
        "import re\n",
        "import pickle\n",
        "from sklearn.feature_extraction.text import TfidfVectorizer\n",
        "\n",
        "#  Load datasets\n",
        "students_df = pd.read_csv(\"students_dataset_curated.csv\")\n",
        "internships_df = pd.read_csv(\"internships_dataset_curated.csv\")\n",
        "\n",
        "print(\"Students Dataset Columns:\", students_df.columns.tolist())\n",
        "print(\"Internships Dataset Columns:\", internships_df.columns.tolist())\n",
        "\n",
        "#  Basic cleaning function\n",
        "def clean_text(text):\n",
        "    if pd.isnull(text):\n",
        "        return \"\"\n",
        "    text = text.lower().strip()\n",
        "    text = re.sub(r\"[^a-zA-Z\\s]\", \"\", text)  # remove special characters/numbers\n",
        "    return text\n",
        "\n",
        "# Apply cleaning to important columns\n",
        "students_df[\"skills\"] = students_df[\"skills\"].apply(clean_text)\n",
        "students_df[\"sector_interest\"] = students_df[\"sector_interest\"].apply(clean_text)\n",
        "\n",
        "internships_df[\"required_skills\"] = internships_df[\"required_skills\"].apply(clean_text)\n",
        "internships_df[\"sector\"] = internships_df[\"sector\"].apply(clean_text)\n",
        "\n",
        "#  Combine skills data from both datasets for vectorizer training\n",
        "all_skills = pd.concat([students_df[\"skills\"], internships_df[\"required_skills\"]])\n",
        "all_sector = pd.concat([students_df[\"sector_interest\"], internships_df[\"sector\"]])\n",
        "\n",
        "#  Train TF-IDF vectorizers\n",
        "skills_vectorizer = TfidfVectorizer()\n",
        "skills_vectorizer.fit(all_skills)\n",
        "\n",
        "sector_vectorizer = TfidfVectorizer()\n",
        "sector_vectorizer.fit(all_sector)\n",
        "\n",
        "#  Save vectorizers as pickle files\n",
        "with open(\"skills_vectorizer.pkl\", \"wb\") as f:\n",
        "    pickle.dump(skills_vectorizer, f)\n",
        "\n",
        "with open(\"sector_vectorizer.pkl\", \"wb\") as f:\n",
        "    pickle.dump(sector_vectorizer, f)\n",
        "\n",
        "print(\"Vectorizers trained & saved!\")\n",
        "\n",
        "#  Prepare cleaned internship dataset for API\n",
        "internships_cleaned = internships_df.copy()\n",
        "internships_cleaned[\"required_skills\"] = internships_cleaned[\"required_skills\"].apply(clean_text)\n",
        "internships_cleaned[\"sector\"] = internships_cleaned[\"sector\"].apply(clean_text)\n",
        "\n",
        "internships_cleaned.to_csv(\"internships_cleaned_for_api.csv\", index=False)\n",
        "print(\"internships_cleaned_for_api.csv saved!\")\n",
        "\n",
        "#  Quick check\n",
        "print(\"\\nSample internships data:\")\n",
        "print(internships_cleaned.head())\n"
      ]
    },
    {
      "cell_type": "code",
      "source": [],
      "metadata": {
        "id": "hQS8xpCZch7N"
      },
      "execution_count": null,
      "outputs": []
    }
  ]
}